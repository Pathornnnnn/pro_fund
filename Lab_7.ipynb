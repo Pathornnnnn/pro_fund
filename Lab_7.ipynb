{
  "nbformat": 4,
  "nbformat_minor": 0,
  "metadata": {
    "colab": {
      "provenance": [],
      "include_colab_link": true
    },
    "kernelspec": {
      "name": "python3",
      "display_name": "Python 3"
    },
    "language_info": {
      "name": "python"
    }
  },
  "cells": [
    {
      "cell_type": "markdown",
      "metadata": {
        "id": "view-in-github",
        "colab_type": "text"
      },
      "source": [
        "<a href=\"https://colab.research.google.com/github/Pathornnnnn/pro_fund/blob/main/Lab_7.ipynb\" target=\"_parent\"><img src=\"https://colab.research.google.com/assets/colab-badge.svg\" alt=\"Open In Colab\"/></a>"
      ]
    },
    {
      "cell_type": "markdown",
      "source": [
        "รหัสนักศึกษา : 67015105     ชื่อ : นาย ภาธร สมแสน"
      ],
      "metadata": {
        "id": "UXzLtjMa17TG"
      }
    },
    {
      "cell_type": "markdown",
      "source": [
        "1.\tเขียนฟังก์ชัน add_score(subject_score, subject, score) โดยมีพารามิเตอร์ 3 ตัว ได้แก่ subject_score เป็น dictionary ที่มีคู่ key : value เป็น subject : score พารามิเตอร์ตัวที่ 2 และ 3 เป็น subject และ score โดย subject เป็น string และ score เป็น integer โดยให้นำ subject และ score ไปเพิ่มใน dictionary เช่น\n",
        "\n",
        "-Input : subject_score = { }, subject = ‘python’, score = 50\n",
        "-return : { ‘python’ : 50 }\n",
        "-input : subject_score = { ‘python’ : 50 }, subject = ‘calculus’, score = 60\n",
        "-return : { ‘python’ : 50, ‘calculus : 60 }\n",
        "\n",
        "\n",
        "จากนั้นให้เขียนฟังก์ชัน calc_average_score หาค่าเฉลี่ยของคะแนนในทุกรายวิชาใน dictionary ที่ได้จากฟังก์ชัน add_score โดยให้ส่งค่าคืนมาเป็น string ที่มีทศนิยม 2 ตำแหน่ง\n"
      ],
      "metadata": {
        "id": "os9RES5T2DNP"
      }
    },
    {
      "cell_type": "code",
      "source": [
        "def add_score(subject_score, student, subject, score):\n",
        "    if student not in subject_score:\n",
        "        subject_score[student] = {}\n",
        "    subject_score[student][subject] = score\n",
        "    return subject_score\n",
        "\n",
        "dict = {}\n",
        "add_score(dict,'65010001', 'python', 50) # => {'65010001' : { 'python' : 50 } }\n",
        "add_score(dict,'65010001', 'calculus', 60) # => {'65010001' : { 'python' : 50, 'calculus' : 60 }\n",
        "print(dict)\n",
        "\n",
        "\n",
        "\n",
        "def calc_average_score(subject_score):\n",
        "  avg = 0\n",
        "  for i in subject_score:\n",
        "    len_std = len(subject_score[i])\n",
        "    for j in subject_score[i]:\n",
        "       avg += subject_score[i][j]\n",
        "    avg /= len_std\n",
        "    return '{:.2f}'.format(avg)\n",
        "\n",
        "calc_average_score(dict) # => {'65010001': '55.00' }\n"
      ],
      "metadata": {
        "id": "LZGVVZVj3hLN",
        "outputId": "ec1916a5-4d56-45e8-a034-cb6b2a8625eb",
        "colab": {
          "base_uri": "https://localhost:8080/",
          "height": 53
        }
      },
      "execution_count": null,
      "outputs": [
        {
          "output_type": "stream",
          "name": "stdout",
          "text": [
            "{'65010001': {'python': 50, 'calculus': 60}}\n"
          ]
        },
        {
          "output_type": "execute_result",
          "data": {
            "text/plain": [
              "'55.00'"
            ],
            "application/vnd.google.colaboratory.intrinsic+json": {
              "type": "string"
            }
          },
          "metadata": {},
          "execution_count": 18
        }
      ]
    },
    {
      "cell_type": "markdown",
      "source": [
        "2.\tให้นำโปรแกรมตามข้อ 1 มาขยายความสามารถให้รองรับนักศึกษาหลายคน โดยให้ refactor ฟังก์ชัน add_score ให้รับพารามิเตอร์เป็น add_score(subject_score, student, subject, score) โดย student เป็นข้อมูลของนักศึกษาเป็น string (ในที่นี้เป็น id) และ return เป็น dictionary\n",
        "\n",
        "- Input : subject_score = { }, student = '65010001', subject = 'python', score = 50\n",
        "- return : { '65010001' : { 'python' : 50 } }\n",
        "- input : subject_score = { '65010001' : { 'python' : 50 } },\n",
        "  student = '65010001', subject = ‘calculus’, score = 60\n",
        "- return : {'65010001': {'python’: 50,  'calculus', 60} }\n",
        "\n",
        "โดยหากชื่อมีข้อมูล key ใดที่มีใน dictionary อยู่แล้ว ให้ถือเป็นการ update ข้อมูลนั้น\n",
        "\n",
        "ให้ refactor ฟังก์ชัน calc_average_score โดยให้ส่งคืนเป็น dictionary ของนักศึกษาและคะแนนเฉลี่ยของนักศึกษาคนนั้น เช่น {'65010001': '55.00' }\n"
      ],
      "metadata": {
        "id": "5JcSUIBA4IDY"
      }
    },
    {
      "cell_type": "code",
      "execution_count": null,
      "metadata": {
        "id": "QmJLbNje10SA",
        "colab": {
          "base_uri": "https://localhost:8080/"
        },
        "outputId": "7e50d3e1-2c52-4349-f7eb-05fb335ce36b"
      },
      "outputs": [
        {
          "output_type": "stream",
          "name": "stdout",
          "text": [
            "{'65010001': {'python': 50, 'calculus': 60, 'eng': 40}}\n",
            "50.00\n"
          ]
        }
      ],
      "source": [
        "def add_score(subject_score, student, subject, score):\n",
        "    subject = subject.lower()\n",
        "    if student not in subject_score:\n",
        "        subject_score[student] = {}\n",
        "    subject_score[student][subject] = score\n",
        "\n",
        "    return subject_score\n",
        "\n",
        "dict = {}\n",
        "add_score(dict,'65010001', 'python', 50) # => {'65010001' : { 'python' : 50 } }\n",
        "add_score(dict,'65010001', 'calculus', 60) # => {'65010001' : { 'python' : 50, 'calculus' : 60 }\n",
        "add_score(dict,'65010001','eng',30)\n",
        "add_score(dict,'65010001','Eng',40)\n",
        "\n",
        "\n",
        "def calc_average_score(subject_score):\n",
        "  avg = 0\n",
        "  for i in subject_score:\n",
        "    len_std = len(subject_score[i])\n",
        "    for j in subject_score[i]:\n",
        "       avg += subject_score[i][j]\n",
        "    avg /= len_std\n",
        "    return '{:.2f}'.format(avg)\n",
        "\n",
        "print(dict)\n",
        "print(calc_average_score(dict)) # => {'65010001': '55.00' }\n"
      ]
    },
    {
      "cell_type": "markdown",
      "source": [
        "3.\tให้เขียนฟังก์ชัน is_plusone_dictionary(d) โดยรับพารามิเตอร์ 1 ตัว เป็นข้อมูลชนิด dictionary และให้ทดสอบว่า dictionary ที่รับเข้ามาเป็น plusone dictionary หรือไม่ ผลลัพธ์ให้ return เป็น True หรือ False โดย plusone dictionary คือ dictionary ที่ key และ value จะบวก 1 ต่อกันไปเรื่อยๆ  \n",
        "\n",
        "- Input :   {1:2, 3:4, 5:6, 7:8}\n",
        "- return : True\n",
        "\n",
        "อธิบาย : เพราะ key : value ต่างกันเป็น +1 ต่อกันไป\n",
        "- Input :   {1:2, 3:10, 5:6, 7:8}\n",
        "- return : False\n",
        "\n",
        "อธิบาย : เพราะ key, value ไม่เป็นไปตามลำดับ\n"
      ],
      "metadata": {
        "id": "Fv6l6uwo6Pki"
      }
    },
    {
      "cell_type": "code",
      "source": [
        "def is_plusone_dictionary(d):\n",
        "  pass\n",
        "\n",
        "is_plusone_dictionary({1:2, 3:4, 5:6, 7:8}) # => True\n",
        "is_plusone_dictionary({1:2, 3:10, 5:6, 7:8}) # => False\n",
        "\n"
      ],
      "metadata": {
        "id": "-yCKWw876aQs"
      },
      "execution_count": null,
      "outputs": []
    },
    {
      "cell_type": "markdown",
      "source": [
        "4.\tเขียนฟังก์ชัน char_count(str) โดยรับพารามิเตอร์ 1 ตัว เป็นข้อมูลชนิด string และให้ส่งคืนเป็น dictionary ที่มี key เป็นตัวอักษรแต่ละตัวของ string นั้น และ value คือ จำนวนครั้งที่ตัวอักษรนั้นปรากฏใน string เช่น\n",
        "\n",
        "- Input : 'language'\n",
        "- return : {'l': 1, 'a': 2, 'n': 1, 'g': 2, 'e': 1}\n"
      ],
      "metadata": {
        "id": "zxO80QGx6mnk"
      }
    },
    {
      "cell_type": "code",
      "source": [
        "def char_count(str):\n",
        "  pass\n",
        "\n",
        "char_count('language') # => {'l': 1, 'a': 2, 'n': 1, 'g': 2, 'e': 1}\n",
        "\n",
        "char_count('awesome') # => {'a': 1, 'e': 2, 'm': 1, 'o': 1, 'w': 1}\n",
        "\n",
        "char_count('me') # => {'m': 1, 'e': 1}"
      ],
      "metadata": {
        "id": "PEu6wF5Y6rAE"
      },
      "execution_count": null,
      "outputs": []
    },
    {
      "cell_type": "markdown",
      "source": [
        "5.\tข้อมูลต่อไปนี้แทน music album แต่ละ album เก็บใน dictionary ซึ่งมีตัวเลข id เป็น key โดยแต่ละ album ไม่จำเป็นต้องมีข้อมูลครบ\n",
        "\n",
        "\n",
        "\n",
        "```\n",
        "record_collection = {\n",
        "  2548: {\n",
        "    albumTitle: 'Slippery When Wet',\n",
        "    artist: 'Bon Jovi',\n",
        "    tracks: ['Let It Rock', 'You Give Love a Bad Name']\n",
        "  },\n",
        "  2468: {\n",
        "    albumTitle: '1999',\n",
        "    artist: 'Prince',\n",
        "    tracks: ['1999', 'Little Red Corvette']\n",
        "  },\n",
        "  1245: {\n",
        "    artist: 'Robert Palmer',\n",
        "    tracks: []\n",
        "  },\n",
        "  5439: {\n",
        "    albumTitle: 'ABBA Gold'\n",
        "  }\n",
        "```\n",
        "\n",
        "\n",
        "\n",
        "ให้เขียนฟังก์ชัน update_records โดยรับพารามิเตอร์ 4 ตัว คือ 1) dictionary record 2) id 3) property (เช่น artist หรือ tracks 4) value โดยหน้าที่ของฟังก์ชัน คือ ให้เพิ่ม/เปลี่ยน ค่า property และ value ของ album ของ id ที่ส่งค่าไปในฟังก์ชัน โดยมีรายละเอียดดังนี้\n",
        "- ฟังก์ชันจะต้องส่งคืนข้อมูล record ทั้งหมดกลับมา\n",
        "- ถ้า property ไม่ใช่ tracks และ value ไม่ใช่ empty string ให้ update หรือ set ข้อมูล property กับ value ใน album นั้น\n",
        "- ถ้า property เป็น tracks แต่ album นั้นไม่มี tracks property ให้สร้าง List ใหม่และเพิ่มข้อมูลเข้าไปใน List นั้น\n",
        "- ถ้า property เป็น tracks และ value ไม่ใช่  empty string ให้เพิ่ม value ต่อท้ายใน List ของ tracks  \n",
        "- ถ้า value เป็น empty string ให้ลบข้อมูล property นั้นออกจาก album\n",
        "\n",
        "\n"
      ],
      "metadata": {
        "id": "2YPYGtFG6v2j"
      }
    },
    {
      "cell_type": "code",
      "source": [
        "record_collection = {\n",
        "  2548: {\n",
        "    'albumTitle': 'Slippery When Wet',\n",
        "    'artist': 'Bon Jovi',\n",
        "    'tracks': ['Let It Rock', 'You Give Love a Bad Name']\n",
        "  },\n",
        "  2468: {\n",
        "    'albumTitle': '1999',\n",
        "    'artist': 'Prince',\n",
        "    'tracks': ['1999', 'Little Red Corvette']\n",
        "  },\n",
        "  1245: {\n",
        "    'artist': 'Robert Palmer',\n",
        "    'tracks': []\n",
        "  },\n",
        "  5439: {\n",
        "    'albumTitle': 'ABBA Gold'\n",
        "  }\n",
        "}\n",
        "\n",
        "def update_records(record, id, property, value):\n",
        "  if property != 'tracks' and value != '':\n",
        "    record[id][property] = value\n",
        "  elif property == 'tracks' and 'tracks' not in record[id]:\n",
        "      record[id][property] = value\n",
        "  elif property == 'tracks' and value != '':\n",
        "    if type(value) == list:\n",
        "      record[id][property].extend(value)\n",
        "    else:\n",
        "      record[id][property].append(value)\n",
        "  elif value == '':\n",
        "    del record[id][property]\n",
        "  return record\n",
        "\n",
        "update_records(record_collection, 2548, 'a7\n",
        "\\rtist', '') # ลบ artist ของ 2548\n",
        "update_records(record_collection, 2548, 'artist', 'Sting') # แก้ไข artist ของ 2548\n",
        "update_records(record_collection, 2548, 'tracks', 'wanted dead or alive') # เพิ่ม tracks ของ 1245\n",
        "update_records(record_collection, 2548, 'tracks', ['sadasd','sadasd']) # ลบ tracks ของ 1245\n",
        "# update_records(record_collection, 5439, 'tracks', 'I Put a Spell on You') # เพิ่ม tracks ของ 5439\n",
        "# update_records(record_collection, 5439, 'artist', 'ABBA') # เพิ่ม artist ของ 5439\n",
        "# update_records(record_collection, 5439, 'artist', 'Chicago') # แก้ไข artist ของ 5439\n",
        "# update_records(record_collection, 1245, 'tracks', 'Addicted to Love') # เพิ่ม tracks ของ 1245\n",
        "# update_records(record_collection, 5439, 'albumTitle', '') # ลบ albumTitle ของ 5439\n",
        "\n",
        "print(record_collection)\n",
        "\n"
      ],
      "metadata": {
        "id": "Q9T-P4hs8cqJ",
        "colab": {
          "base_uri": "https://localhost:8080/"
        },
        "outputId": "85185b54-f7a8-4fad-b143-69f6c6a2f7a1"
      },
      "execution_count": null,
      "outputs": [
        {
          "output_type": "stream",
          "name": "stdout",
          "text": [
            "{2548: {'albumTitle': 'Slippery When Wet', 'tracks': ['Let It Rock', 'You Give Love a Bad Name', 'wanted dead or alive', 'sadasd', 'sadasd'], 'artist': 'Sting'}, 2468: {'albumTitle': '1999', 'artist': 'Prince', 'tracks': ['1999', 'Little Red Corvette']}, 1245: {'artist': 'Robert Palmer', 'tracks': []}, 5439: {'albumTitle': 'ABBA Gold'}}\n"
          ]
        }
      ]
    },
    {
      "cell_type": "markdown",
      "source": [
        "ให้เขียนโปรแกรม หาขนาดไฟล์แต่ละไฟล์และขนาดไฟล์รวมใน directory\n",
        "https://github.com/khthana/Python67/blob/main/thai-handwritten-dataset.zip\n",
        "\n",
        "\n"
      ],
      "metadata": {
        "id": "UxUr35EWEDd8"
      }
    },
    {
      "cell_type": "code",
      "source": [
        "!git clone https://github.com/khthana/Python67/"
      ],
      "metadata": {
        "id": "ZP-9-SVeEJn6",
        "outputId": "f4186706-0b58-49f8-8356-1c52c4e0549f",
        "colab": {
          "base_uri": "https://localhost:8080/"
        }
      },
      "execution_count": null,
      "outputs": [
        {
          "output_type": "stream",
          "name": "stdout",
          "text": [
            "Cloning into 'Python67'...\n",
            "remote: Enumerating objects: 33, done.\u001b[K\n",
            "remote: Counting objects: 100% (33/33), done.\u001b[K\n",
            "remote: Compressing objects: 100% (31/31), done.\u001b[K\n",
            "remote: Total 33 (delta 11), reused 0 (delta 0), pack-reused 0 (from 0)\u001b[K\n",
            "Receiving objects: 100% (33/33), 12.32 MiB | 14.04 MiB/s, done.\n",
            "Resolving deltas: 100% (11/11), done.\n"
          ]
        }
      ]
    },
    {
      "cell_type": "code",
      "source": [
        "from pathlib import Path\n",
        "import os\n",
        "print(Path.cwd)\n",
        "!é\n"
      ],
      "metadata": {
        "id": "N3vz_VW7dPVD",
        "outputId": "a6b8184d-5807-4d09-e2cb-cafbaa3f804d",
        "colab": {
          "base_uri": "https://localhost:8080/"
        }
      },
      "execution_count": null,
      "outputs": [
        {
          "output_type": "stream",
          "name": "stdout",
          "text": [
            "<bound method Path.cwd of <class 'pathlib.Path'>>\n",
            "Archive:  /content/Python67/thai-handwritten-dataset.zip\n",
            "replace /content/Python67/Dataset/thai-handwritten-dataset/0/0098326c-aa9e-410d-b949-e13d3cd74cfd.png? [y]es, [n]o, [A]ll, [N]one, [r]ename: "
          ]
        }
      ]
    }
  ]
}